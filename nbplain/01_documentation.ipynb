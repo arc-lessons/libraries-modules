{
 "cells": [
  {
   "cell_type": "markdown",
   "metadata": {},
   "source": [
    "# Documentation"
   ]
  },
  {
   "cell_type": "markdown",
   "metadata": {},
   "source": [
    "## Overview:\n",
    "- **Teaching:** 10 min\n",
    "- **Exercises:** 5 min\n",
    "\n",
    "**Questions**\n",
    "- Why should I document my code?\n",
    "- What should I put in a docstring?\n",
    "\n",
    "**Objectives**\n",
    "- Know how to document Python functions\n",
    "- Understand how to follow best practice in documentation to create reusable code"
   ]
  },
  {
   "cell_type": "markdown",
   "metadata": {},
   "source": [
    "Python has great in-built documentation that is available via the `help` function. For example"
   ]
  },
  {
   "cell_type": "code",
   "execution_count": 1,
   "metadata": {},
   "outputs": [],
   "source": [
    "l = [\"cat\", \"dog\", \"fish\"]"
   ]
  },
  {
   "cell_type": "code",
   "execution_count": 2,
   "metadata": {},
   "outputs": [
    {
     "name": "stdout",
     "output_type": "stream",
     "text": [
      "Help on list object:\n",
      "\n",
      "class list(object)\n",
      " |  list(iterable=(), /)\n",
      " |  \n",
      " |  Built-in mutable sequence.\n",
      " |  \n",
      " |  If no argument is given, the constructor creates a new empty list.\n",
      " |  The argument must be an iterable if specified.\n",
      " |  \n",
      " |  Methods defined here:\n",
      " |  \n",
      " |  __add__(self, value, /)\n",
      " |      Return self+value.\n",
      " |  \n",
      " |  __contains__(self, key, /)\n",
      " |      Return key in self.\n",
      " |  \n",
      " |  __delitem__(self, key, /)\n",
      " |      Delete self[key].\n",
      " |  \n",
      " |  __eq__(self, value, /)\n",
      " |      Return self==value.\n",
      " |  \n",
      " |  __ge__(self, value, /)\n",
      " |      Return self>=value.\n",
      " |  \n",
      " |  __getattribute__(self, name, /)\n",
      " |      Return getattr(self, name).\n",
      " |  \n",
      " |  __getitem__(...)\n",
      " |      x.__getitem__(y) <==> x[y]\n",
      " |  \n",
      " |  __gt__(self, value, /)\n",
      " |      Return self>value.\n",
      " |  \n",
      " |  __iadd__(self, value, /)\n",
      " |      Implement self+=value.\n",
      " |  \n",
      " |  __imul__(self, value, /)\n",
      " |      Implement self*=value.\n",
      " |  \n",
      " |  __init__(self, /, *args, **kwargs)\n",
      " |      Initialize self.  See help(type(self)) for accurate signature.\n",
      " |  \n",
      " |  __iter__(self, /)\n",
      " |      Implement iter(self).\n",
      " |  \n",
      " |  __le__(self, value, /)\n",
      " |      Return self<=value.\n",
      " |  \n",
      " |  __len__(self, /)\n",
      " |      Return len(self).\n",
      " |  \n",
      " |  __lt__(self, value, /)\n",
      " |      Return self<value.\n",
      " |  \n",
      " |  __mul__(self, value, /)\n",
      " |      Return self*value.\n",
      " |  \n",
      " |  __ne__(self, value, /)\n",
      " |      Return self!=value.\n",
      " |  \n",
      " |  __repr__(self, /)\n",
      " |      Return repr(self).\n",
      " |  \n",
      " |  __reversed__(self, /)\n",
      " |      Return a reverse iterator over the list.\n",
      " |  \n",
      " |  __rmul__(self, value, /)\n",
      " |      Return value*self.\n",
      " |  \n",
      " |  __setitem__(self, key, value, /)\n",
      " |      Set self[key] to value.\n",
      " |  \n",
      " |  __sizeof__(self, /)\n",
      " |      Return the size of the list in memory, in bytes.\n",
      " |  \n",
      " |  append(self, object, /)\n",
      " |      Append object to the end of the list.\n",
      " |  \n",
      " |  clear(self, /)\n",
      " |      Remove all items from list.\n",
      " |  \n",
      " |  copy(self, /)\n",
      " |      Return a shallow copy of the list.\n",
      " |  \n",
      " |  count(self, value, /)\n",
      " |      Return number of occurrences of value.\n",
      " |  \n",
      " |  extend(self, iterable, /)\n",
      " |      Extend list by appending elements from the iterable.\n",
      " |  \n",
      " |  index(self, value, start=0, stop=9223372036854775807, /)\n",
      " |      Return first index of value.\n",
      " |      \n",
      " |      Raises ValueError if the value is not present.\n",
      " |  \n",
      " |  insert(self, index, object, /)\n",
      " |      Insert object before index.\n",
      " |  \n",
      " |  pop(self, index=-1, /)\n",
      " |      Remove and return item at index (default last).\n",
      " |      \n",
      " |      Raises IndexError if list is empty or index is out of range.\n",
      " |  \n",
      " |  remove(self, value, /)\n",
      " |      Remove first occurrence of value.\n",
      " |      \n",
      " |      Raises ValueError if the value is not present.\n",
      " |  \n",
      " |  reverse(self, /)\n",
      " |      Reverse *IN PLACE*.\n",
      " |  \n",
      " |  sort(self, /, *, key=None, reverse=False)\n",
      " |      Stable sort *IN PLACE*.\n",
      " |  \n",
      " |  ----------------------------------------------------------------------\n",
      " |  Static methods defined here:\n",
      " |  \n",
      " |  __new__(*args, **kwargs) from builtins.type\n",
      " |      Create and return a new object.  See help(type) for accurate signature.\n",
      " |  \n",
      " |  ----------------------------------------------------------------------\n",
      " |  Data and other attributes defined here:\n",
      " |  \n",
      " |  __hash__ = None\n",
      "\n"
     ]
    }
   ],
   "source": [
    "help(l)"
   ]
  },
  {
   "cell_type": "markdown",
   "metadata": {},
   "source": [
    "You can add similar documentation to the functions that you write. You do this by adding in a documentation string as the first string after defining the function e.g."
   ]
  },
  {
   "cell_type": "code",
   "execution_count": 3,
   "metadata": {},
   "outputs": [],
   "source": [
    "def multiply(a, b):\n",
    "    \"\"\"This function returns the element-wise multiplication of the passed lists 'a' and 'b'\"\"\"\n",
    "    c = []\n",
    "    for x,y in zip(a,b):\n",
    "        c.append(x*y)\n",
    "    return c"
   ]
  },
  {
   "cell_type": "code",
   "execution_count": 4,
   "metadata": {},
   "outputs": [
    {
     "data": {
      "text/plain": [
       "[4, 10, 18]"
      ]
     },
     "execution_count": 4,
     "metadata": {},
     "output_type": "execute_result"
    }
   ],
   "source": [
    "multiply( [1,2,3], [4,5,6] )"
   ]
  },
  {
   "cell_type": "code",
   "execution_count": 5,
   "metadata": {},
   "outputs": [
    {
     "name": "stdout",
     "output_type": "stream",
     "text": [
      "Help on function multiply in module __main__:\n",
      "\n",
      "multiply(a, b)\n",
      "    This function returns the element-wise multiplication of the passed lists 'a' and 'b'\n",
      "\n"
     ]
    }
   ],
   "source": [
    "help(multiply)"
   ]
  },
  {
   "cell_type": "markdown",
   "metadata": {},
   "source": [
    "The documentation string should be placed between two sets of triple quotes (`\"\"\"`). This is a convention that makes it easier to expand the documentation later, and that ensures that nothing you write in the documentation will be expanded or interpreted as Python.\n",
    "\n",
    "Documentation should provide an easy to understand, and *brief* description of what the function does. It should not give information that is obvious by reading the function signature. For example, this is a bad piece of documentation."
   ]
  },
  {
   "cell_type": "code",
   "execution_count": 6,
   "metadata": {},
   "outputs": [],
   "source": [
    "def multiply(a, b):\n",
    "    \"\"\"function multiply(a,b) -> list\"\"\"\n",
    "    c = []\n",
    "    for x,y in zip(a,b):\n",
    "        c.append(x*y)\n",
    "    return c"
   ]
  },
  {
   "cell_type": "code",
   "execution_count": 7,
   "metadata": {},
   "outputs": [
    {
     "name": "stdout",
     "output_type": "stream",
     "text": [
      "Help on function multiply in module __main__:\n",
      "\n",
      "multiply(a, b)\n",
      "    function multiply(a,b) -> list\n",
      "\n"
     ]
    }
   ],
   "source": [
    "help(multiply)"
   ]
  },
  {
   "cell_type": "markdown",
   "metadata": {},
   "source": [
    "It is much better to say what the function does, and then what it returns (as this can't be seen from the signature). Good documentation would be"
   ]
  },
  {
   "cell_type": "code",
   "execution_count": 8,
   "metadata": {},
   "outputs": [],
   "source": [
    "def multiply(a, b):\n",
    "    \"\"\"Calculates the element-wise multiplication of a and b, returning a list of the results\"\"\"\n",
    "    c = []\n",
    "    for x,y in zip(a,b):\n",
    "        c.append(x*y)\n",
    "    return c"
   ]
  },
  {
   "cell_type": "code",
   "execution_count": 9,
   "metadata": {},
   "outputs": [
    {
     "name": "stdout",
     "output_type": "stream",
     "text": [
      "Help on function multiply in module __main__:\n",
      "\n",
      "multiply(a, b)\n",
      "    Calculates the element-wise multiplication of a and b, returning a list of the results\n",
      "\n"
     ]
    }
   ],
   "source": [
    "help(multiply)"
   ]
  },
  {
   "cell_type": "markdown",
   "metadata": {},
   "source": [
    "Your documentation can span over multiple lines. If you are describing the arguments, then you should use one line per argument, for example"
   ]
  },
  {
   "cell_type": "code",
   "execution_count": 10,
   "metadata": {},
   "outputs": [],
   "source": [
    "def make_complex(real, imag=0):\n",
    "    \"\"\"Create and return a complex number\n",
    "    \n",
    "       Keyword arguments:\n",
    "       \n",
    "       real -- the real part of the number\n",
    "       imag -- the imaginary part of the number\n",
    "    \"\"\"\n",
    "    return (real,imag)"
   ]
  },
  {
   "cell_type": "code",
   "execution_count": 11,
   "metadata": {},
   "outputs": [
    {
     "name": "stdout",
     "output_type": "stream",
     "text": [
      "Help on function make_complex in module __main__:\n",
      "\n",
      "make_complex(real, imag=0)\n",
      "    Create and return a complex number\n",
      "    \n",
      "    Keyword arguments:\n",
      "    \n",
      "    real -- the real part of the number\n",
      "    imag -- the imaginary part of the number\n",
      "\n"
     ]
    }
   ],
   "source": [
    "help(make_complex)"
   ]
  },
  {
   "cell_type": "markdown",
   "metadata": {},
   "source": [
    "By convention, you will notice above that the last `\"\"\"` is placed on its own line if the documentation spans multiple lines. It is on the same line if the documentation is short.\n",
    "\n",
    "In general, keep your documentation short, to the point, and avoid repeating obvious information. However, be precise, as this may be the only part of your code that somebody else reads before they use your function in their program.\n",
    "\n",
    "A good suggestion is to look at documentation you like and try to copy that style. Also, look for code that you think is poorly documented, and try to avoid their mistakes.  An example guide is [PEP257](https://www.python.org/dev/peps/pep-0257/)"
   ]
  },
  {
   "cell_type": "markdown",
   "metadata": {},
   "source": [
    "## Exercise+: Add Doctrings\n",
    "\n",
    "Below is a series of undocumented functions. Take a look through the functions and try to work out what they do. Once you understand the functions, write some documentation for each function. Get your neighbour to read your documentation. Do they understand what the function does based on what you have written? Do the function names\n",
    "combined with your documentation accurately convey the result of calling the function?\n",
    "\n",
    "Note that you may have to use `help(...)` yourself if you don't recognise some of the code in the functions. Also try to play with the function to see how it behaves."
   ]
  },
  {
   "cell_type": "code",
   "execution_count": 12,
   "metadata": {},
   "outputs": [],
   "source": [
    "def add(a, b):\n",
    "    c = []\n",
    "    for x,y in zip(a,b):\n",
    "        c.append(x+y)\n",
    "    return c"
   ]
  },
  {
   "cell_type": "code",
   "execution_count": 13,
   "metadata": {},
   "outputs": [],
   "source": [
    "def subtract(a, b):\n",
    "    c = []\n",
    "    for x,y in zip(a,b):\n",
    "        c.append(x / y)\n",
    "    return c"
   ]
  },
  {
   "cell_type": "code",
   "execution_count": 14,
   "metadata": {},
   "outputs": [],
   "source": [
    "def capitalise(message):\n",
    "    words = message.split(\" \")\n",
    "    for i in range(0,len(words)):\n",
    "        words[i] = \"%s%s\" % (words[i][0].upper(), words[i][1:])\n",
    "    return \" \".join(words)"
   ]
  },
  {
   "cell_type": "code",
   "execution_count": 15,
   "metadata": {},
   "outputs": [],
   "source": [
    "def surprise(x):\n",
    "    import random\n",
    "    if x < random.random():\n",
    "        print(\"Surprise!\")"
   ]
  },
  {
   "cell_type": "markdown",
   "metadata": {},
   "source": [
    "For this last function, try calling it via `list_interface(\"ipynb\")`."
   ]
  },
  {
   "cell_type": "code",
   "execution_count": 16,
   "metadata": {},
   "outputs": [],
   "source": [
    "def list_interface(x):\n",
    "    import glob\n",
    "    f = glob.glob(\"*.%s\" % x)\n",
    "    l = []\n",
    "    for x in f:\n",
    "        if x.startswith(\"0\"):\n",
    "            l.append(x)\n",
    "    return l"
   ]
  },
  {
   "cell_type": "markdown",
   "metadata": {},
   "source": [
    "[Solution]()\n",
    "\n",
    ":Exercise+"
   ]
  },
  {
   "cell_type": "markdown",
   "metadata": {},
   "source": [
    "## Solution+: Add Doctrings"
   ]
  },
  {
   "cell_type": "code",
   "execution_count": 17,
   "metadata": {},
   "outputs": [],
   "source": [
    "def add(a, b):\n",
    "    \"\"\"Calculates the element-wise sum of a and b, returning a list of the results\"\"\"\n",
    "    c = []\n",
    "    for x,y in zip(a,b):\n",
    "        c.append(x+y)\n",
    "    return c"
   ]
  },
  {
   "cell_type": "code",
   "execution_count": 18,
   "metadata": {},
   "outputs": [
    {
     "name": "stdout",
     "output_type": "stream",
     "text": [
      "Help on function add in module __main__:\n",
      "\n",
      "add(a, b)\n",
      "    Calculates the element-wise sum of a and b, returning a list of the results\n",
      "\n"
     ]
    }
   ],
   "source": [
    "help(add)"
   ]
  },
  {
   "cell_type": "code",
   "execution_count": 19,
   "metadata": {},
   "outputs": [],
   "source": [
    "def subtract(a, b):\n",
    "    \"\"\"Calculates the element-wise ratio of a and b, returning a list of results. This function\n",
    "       is badly named, as it DOES NOT return the element-wise difference of a and b!\"\"\"\n",
    "    c = []\n",
    "    for x,y in zip(a,b):\n",
    "        c.append(x / y)\n",
    "    return c"
   ]
  },
  {
   "cell_type": "code",
   "execution_count": 20,
   "metadata": {},
   "outputs": [
    {
     "name": "stdout",
     "output_type": "stream",
     "text": [
      "Help on function subtract in module __main__:\n",
      "\n",
      "subtract(a, b)\n",
      "    Calculates the element-wise ratio of a and b, returning a list of results. This function\n",
      "    is badly named, as it DOES NOT return the element-wise difference of a and b!\n",
      "\n"
     ]
    }
   ],
   "source": [
    "help(subtract)"
   ]
  },
  {
   "cell_type": "code",
   "execution_count": 21,
   "metadata": {},
   "outputs": [],
   "source": [
    "def capitalise(message):\n",
    "    \"\"\"Capitalises every word in message, returning the result\"\"\"\n",
    "    words = message.split(\" \")\n",
    "    for i in range(0,len(words)):\n",
    "        words[i] = \"%s%s\" % (words[i][0].upper(), words[i][1:])\n",
    "    return \" \".join(words)"
   ]
  },
  {
   "cell_type": "code",
   "execution_count": 22,
   "metadata": {},
   "outputs": [
    {
     "name": "stdout",
     "output_type": "stream",
     "text": [
      "Help on function capitalise in module __main__:\n",
      "\n",
      "capitalise(message)\n",
      "    Capitalises every word in message, returning the result\n",
      "\n"
     ]
    }
   ],
   "source": [
    "help(capitalise)"
   ]
  },
  {
   "cell_type": "code",
   "execution_count": 23,
   "metadata": {},
   "outputs": [],
   "source": [
    "def surprise(x):\n",
    "    \"\"\"Prints 'Surprise!' if x is less than a random number between 0 and 1. Returns nothing\"\"\"\n",
    "    import random\n",
    "    if x < random.random():\n",
    "        print(\"Surprise!\")"
   ]
  },
  {
   "cell_type": "code",
   "execution_count": 24,
   "metadata": {},
   "outputs": [
    {
     "name": "stdout",
     "output_type": "stream",
     "text": [
      "Help on function surprise in module __main__:\n",
      "\n",
      "surprise(x)\n",
      "    Prints 'Surprise!' if x is less than a random number between 0 and 1. Returns nothing\n",
      "\n"
     ]
    }
   ],
   "source": [
    "help(surprise)"
   ]
  },
  {
   "cell_type": "markdown",
   "metadata": {},
   "source": [
    "For this last function, try calling it via `list_interface(\"ipynb\")`."
   ]
  },
  {
   "cell_type": "code",
   "execution_count": 25,
   "metadata": {},
   "outputs": [],
   "source": [
    "def list_interface(x):\n",
    "    \"\"\"Returns a list of all files in the current directory that start with '0' and end with x\"\"\"\n",
    "    import glob\n",
    "    f = glob.glob(\"*.%s\" % x)\n",
    "    l = []\n",
    "    for x in f:\n",
    "        if x.startswith(\"0\"):\n",
    "            l.append(x)\n",
    "    return l"
   ]
  },
  {
   "cell_type": "code",
   "execution_count": 26,
   "metadata": {},
   "outputs": [
    {
     "name": "stdout",
     "output_type": "stream",
     "text": [
      "Help on function list_interface in module __main__:\n",
      "\n",
      "list_interface(x)\n",
      "    Returns a list of all files in the current directory that start with '0' and end with x\n",
      "\n"
     ]
    }
   ],
   "source": [
    "help(list_interface)"
   ]
  },
  {
   "cell_type": "markdown",
   "metadata": {
    "collapsed": true
   },
   "source": [
    ":Solution+"
   ]
  },
  {
   "cell_type": "markdown",
   "metadata": {},
   "source": [
    "## Key Points\n",
    "- Python Docstrings are an efficient way of documenting your code\n",
    "- Python's `help` function automatically documnetation from your docstrings\n",
    "- Use good formatting to help your users (and your future self) use your code\n",
    "- Use good practice in code you use or follow coding style when you contribute to projects"
   ]
  }
 ],
 "metadata": {
  "kernelspec": {
   "display_name": "Python 3",
   "language": "python",
   "name": "python3"
  },
  "language_info": {
   "codemirror_mode": {
    "name": "ipython",
    "version": 3
   },
   "file_extension": ".py",
   "mimetype": "text/x-python",
   "name": "python",
   "nbconvert_exporter": "python",
   "pygments_lexer": "ipython3",
   "version": "3.7.3"
  }
 },
 "nbformat": 4,
 "nbformat_minor": 2
}
