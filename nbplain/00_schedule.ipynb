{
 "cells": [
  {
   "cell_type": "markdown",
   "metadata": {
    "slideshow": {
     "slide_type": "slide"
    }
   },
   "source": [
    "# Documenting, Libraries and Modules in Python"
   ]
  },
  {
   "cell_type": "markdown",
   "metadata": {
    "slideshow": {
     "slide_type": "slide"
    }
   },
   "source": [
    "## Prerequisites:\n",
    "\n",
    "To complete this lesson you should be familiar with:\n",
    "- Writing programs in Python\n",
    "- Writing functions and classes\n",
    "- Wanting to write reusable code"
   ]
  },
  {
   "cell_type": "markdown",
   "metadata": {
    "slideshow": {
     "slide_type": "slide"
    }
   },
   "source": [
    "## Schedule:\n",
    "\n",
    "| Time | Episode | Description |\n",
    "|---|---|---|\n",
    "| 0:00 | [Setup](00_setup.ipynb) | Installing modules for this lesson |\n",
    "| 0:10 | [Documentation](01_documentation.ipynb) | How to document your code |\n",
    "| 0:25 | [Class Documentation](02_classdocs.ipynb) | How to document your classes |\n",
    "| 0:35 | [Exceptions](03_exceptions.ipynb) | Exceptional errors |\n",
    "| 0:50 | [Exception handling](04_handling.ipynb) | How to handle exceptions |\n",
    "| 1:05 | [Regular Expressions](05_regexp.ipynb) | How to process strings with regex |\n",
    "| 1:30 | [Modules](06_modules.ipynb) | Create your own modules |\n",
    "| 1:50 | [Loading Modules](07_setup.ipynb) | Load your module into and environment |\n"
   ]
  }
 ],
 "metadata": {
  "celltoolbar": "Slideshow",
  "kernelspec": {
   "display_name": "Python 3",
   "language": "python",
   "name": "python3"
  },
  "language_info": {
   "codemirror_mode": {
    "name": "ipython",
    "version": 3
   },
   "file_extension": ".py",
   "mimetype": "text/x-python",
   "name": "python",
   "nbconvert_exporter": "python",
   "pygments_lexer": "ipython3",
   "version": "3.7.3"
  }
 },
 "nbformat": 4,
 "nbformat_minor": 2
}
