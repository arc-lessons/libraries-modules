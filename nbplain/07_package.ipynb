{
 "cells": [
  {
   "cell_type": "markdown",
   "metadata": {},
   "source": [
    "# Making a Package"
   ]
  },
  {
   "cell_type": "markdown",
   "metadata": {},
   "source": [
    "## Overview:\n",
    "- **Teaching:** 10 min\n",
    "- **Exercises:** 5 min\n",
    "\n",
    "**Questions**\n",
    "- How do modules in Python work?\n",
    "- What is a package?\n",
    "- How do I install, structure and distribute a package?\n",
    "\n",
    "**Objectives**\n",
    "- Learn about Python module and package structure\n",
    "- Use `pip` to install a local package\n",
    "- Learn how to structure a package and write `setup.py`"
   ]
  },
  {
   "cell_type": "markdown",
   "metadata": {},
   "source": [
    "## Information: Modules\n",
    "For a better understanding of exactly how modules work tak a look at the Python documentation on [modules](https://docs.python.org/3/tutorial/modules.html)."
   ]
  },
  {
   "cell_type": "markdown",
   "metadata": {},
   "source": [
    "## Information: Installing\n",
    "For further information on different ways we can use `pip` to install packages see this Python [tutorial](https://packaging.python.org/tutorials/installing-packages)."
   ]
  },
  {
   "cell_type": "markdown",
   "metadata": {},
   "source": [
    "## Information: Packaging and distributing\n",
    "Clear information about packaging and distributing Python files can be difficult to come by. We have collected the sources of the information we used to make this episode here:\n",
    "\n",
    "#### Python tutorials\n",
    "* Tutorial on [distributing](https://docs.python.org/3.7/distributing), which is fairly brief.\n",
    "* Tutorial on [package structure](https://packaging.python.org/tutorials/packaging-projects), a short example project is explored.\n",
    "\n",
    "#### Python Guide\n",
    "A guide to both packaging and distributing can be found [here](https://packaging.python.org/guides/distributing-packages-using-setuptools), Which goes into more detail than the tutorials. This guide also covers uploading packages to PyPI, the Python Package Index, whic we won't cover here.\n",
    "\n",
    "#### Setuptools\n",
    "Setuptools itself is actually a package and not part of the official core Python, but its use is recommended by both Python and PyPI. Documentation for the project is available on their [website](https://setuptools.readthedocs.io/en/latest/setuptools.html).\n",
    "\n",
    "Setuptools is based on the old distutils module, which was part of core Python. It is largely depricated now and the link is mainly included for interest: [distutils](https://docs.python.org/3.7/distutils)"
   ]
  },
  {
   "cell_type": "code",
   "execution_count": 30,
   "metadata": {},
   "outputs": [
    {
     "name": "stdout",
     "output_type": "stream",
     "text": [
      "from setuptools import setup\n",
      "\n",
      "setup(  name='superheros',\n",
      "        version=1.0,\n",
      "        py_modules=['superhero',\n",
      "                    'superhero2',\n",
      "                    'check_superheros'\n",
      "                    ]\n",
      "        )\n",
      "\n"
     ]
    }
   ],
   "source": [
    "with open('../code/superheros/basic_setup.py') as fh:\n",
    "    print(fh.read())"
   ]
  },
  {
   "cell_type": "code",
   "execution_count": 34,
   "metadata": {},
   "outputs": [
    {
     "name": "stdout",
     "output_type": "stream",
     "text": [
      "from setuptools import setup\n",
      "\n",
      "with open(\"README.md\", \"r\") as fh:\n",
      "    long_description = fh.read()\n",
      "\n",
      "setup(  name='superheros',\n",
      "        version=1.0,\n",
      "        author='Jack Betteridge',\n",
      "        author_email='jdb55@bath.ac.uk',\n",
      "        description='',\n",
      "        long_description=long_description,\n",
      "        long_description_content_type='text/markdown',\n",
      "        url='https://arc-lessons.github.io/libraries-modules/00_schedule.html',\n",
      "        py_modules=['superhero',\n",
      "                    'superhero2',\n",
      "                    'check_superheros'\n",
      "                    ],\n",
      "        classifiers=[   'Programming Language :: Python :: 3',\n",
      "                        'License :: OSI Approved :: BSD License',\n",
      "                        'Operating System :: POSIX :: Linux'\n",
      "                    ]\n",
      "        )\n",
      "\n"
     ]
    }
   ],
   "source": [
    "with open('../code/superheros/setup.py') as fh:\n",
    "    print(fh.read())"
   ]
  },
  {
   "cell_type": "markdown",
   "metadata": {},
   "source": [
    "## Exercise: Create your own `setup.py`\n",
    "\n",
    "Remember `morse.py`, the module containing the class for encoding and decoding messages as Morse code? It would be great if other people could install this, as it takes at least two people to have a conversation in Morse code!\n",
    "\n",
    "Create a `setup.py` file for `morse.py` so that it can be installed by `pip`.\n",
    "\n",
    "[Solution]()"
   ]
  },
  {
   "cell_type": "markdown",
   "metadata": {},
   "source": [
    "## Solution+: Create your own `setup.py`\n",
    "\n"
   ]
  },
  {
   "cell_type": "code",
   "execution_count": 32,
   "metadata": {},
   "outputs": [
    {
     "name": "stdout",
     "output_type": "stream",
     "text": [
      "from setuptools import setup\n",
      "\n",
      "setup(  name='morse',\n",
      "        version=1.0,\n",
      "        py_modules=['morse'])\n",
      "\n"
     ]
    }
   ],
   "source": [
    "with open('../code/morse/basic_setup.py') as fh:\n",
    "    print(fh.read())"
   ]
  },
  {
   "cell_type": "markdown",
   "metadata": {},
   "source": [
    "\n",
    ": Solution+"
   ]
  },
  {
   "cell_type": "markdown",
   "metadata": {},
   "source": [
    "## Exercise: Useful information\n",
    "\n",
    "[Solution]()"
   ]
  },
  {
   "cell_type": "markdown",
   "metadata": {},
   "source": [
    "## Solution+: Useful information\n"
   ]
  },
  {
   "cell_type": "code",
   "execution_count": 35,
   "metadata": {},
   "outputs": [
    {
     "name": "stdout",
     "output_type": "stream",
     "text": [
      "from setuptools import setup\n",
      "\n",
      "setup(  name='morse',\n",
      "        version=1.0,\n",
      "        author='My Full Name',\n",
      "        author_email='mfn20@bath.ac.uk',\n",
      "        description='Module for Morse code enthusiasts',\n",
      "        long_description='A longer description of how Morese code works',\n",
      "        url='https://arc-lessons.github.io/libraries-modules/07_package-soln.html',\n",
      "        py_modules=['morse']\n",
      "        classifiers=[   'Programming Language :: Python :: 3',\n",
      "                        'License :: OSI Approved :: BSD License',\n",
      "                        'Operating System :: POSIX :: Linux'\n",
      "                    ]\n",
      "        )\n",
      "\n"
     ]
    }
   ],
   "source": [
    "with open('../code/morse/setup.py') as fh:\n",
    "    print(fh.read())"
   ]
  },
  {
   "cell_type": "markdown",
   "metadata": {},
   "source": [
    ": Solution+"
   ]
  },
  {
   "cell_type": "markdown",
   "metadata": {},
   "source": [
    "## Key Points:\n",
    "* A module is a Python file containing functions and classes.\n",
    "* A package is a module that contains other modules.\n",
    "* `pip` is used to install packages, both from PyPI and the local machine.\n",
    "* Correct file structure and `setup.py` are all that are required to install (a distributable) Python package."
   ]
  }
 ],
 "metadata": {
  "kernelspec": {
   "display_name": "Python 3",
   "language": "python",
   "name": "python3"
  },
  "language_info": {
   "codemirror_mode": {
    "name": "ipython",
    "version": 3
   },
   "file_extension": ".py",
   "mimetype": "text/x-python",
   "name": "python",
   "nbconvert_exporter": "python",
   "pygments_lexer": "ipython3",
   "version": "3.7.3"
  }
 },
 "nbformat": 4,
 "nbformat_minor": 2
}
