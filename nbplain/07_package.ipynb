{
 "cells": [
  {
   "cell_type": "markdown",
   "metadata": {},
   "source": [
    "# Making a Package"
   ]
  },
  {
   "cell_type": "markdown",
   "metadata": {},
   "source": [
    "## Overview:\n",
    "- **Teaching:** 10 min\n",
    "- **Exercises:** 5 min\n",
    "\n",
    "**Questions**\n",
    "- How do modules in Python work?\n",
    "- What is a package?\n",
    "- How do I install, structure and distribute a package?\n",
    "\n",
    "**Objectives**\n",
    "- Learn about Python module and package structure\n",
    "- Use `pip` to install a local package\n",
    "- Learn how to structure a package and write `setup.py`"
   ]
  },
  {
   "cell_type": "markdown",
   "metadata": {},
   "source": [
    "We met modules in the previous episode. They were useful as we could put functions and classes into a seperate file and access them from other Python scripts. This was done by using the `import` keyword followed by the name of the module. The name of the module is the filename we give it (for single file modules at least).\n",
    "\n",
    "If we make our own module, it is initially only importable from the current directory, which is fine for a small project, but if you had a module containin routines that you use regularly, it would be good if they could be imported into any of your projects."
   ]
  },
  {
   "cell_type": "markdown",
   "metadata": {},
   "source": [
    "## Information: Modules\n",
    "For a better understanding of exactly how modules work tak a look at the Python documentation on [modules](https://docs.python.org/3/tutorial/modules.html)."
   ]
  },
  {
   "cell_type": "markdown",
   "metadata": {},
   "source": [
    "## Pip\n",
    "Python comes with its own package manager called pip. Most commonly it is used to install packages contained in PyPI, the Python Packag Index, but can also be used to install packages stored in git repositories and on the local machine, which is what we will look at here.\n",
    "\n",
    "We can demonstrate how to use `pip` by reinstalling the superheros module, if you followed through the setup episode this will be installed already, but pip will know this and reinstall anyway. We can install (or reinstall) the local package in `../code/superheros` by running"
   ]
  },
  {
   "cell_type": "code",
   "execution_count": 1,
   "metadata": {},
   "outputs": [
    {
     "name": "stdout",
     "output_type": "stream",
     "text": [
      "Processing /home/jack/Documents/JamesGrant/arc-bath-forks/libraries-modules/code/superheros\n",
      "Installing collected packages: superheros\n",
      "  Running setup.py install for superheros ... \u001b[?25ldone\n",
      "\u001b[?25hSuccessfully installed superheros-1.0\n",
      "\u001b[33mYou are using pip version 19.0.3, however version 19.1.1 is available.\n",
      "You should consider upgrading via the 'pip install --upgrade pip' command.\u001b[0m\n"
     ]
    }
   ],
   "source": [
    "!pip install ../code/superheros"
   ]
  },
  {
   "cell_type": "markdown",
   "metadata": {},
   "source": [
    "It's as simple as that! `pip` is the package manager, `install` is the instruction we want pip to carry out, and `../code/superheros` is the location of our package. If we instead wanted to install a package from PyPI we just put the name of the package in place of the path, for instance"
   ]
  },
  {
   "cell_type": "code",
   "execution_count": 2,
   "metadata": {},
   "outputs": [
    {
     "name": "stdout",
     "output_type": "stream",
     "text": [
      "Requirement already satisfied: nbfancy in /home/jack/Documents/JamesGrant/nbfancy (0.1.dev2)\n",
      "Requirement already satisfied: ipython>=6 in /home/jack/Documents/JamesGrant/nbfancy_install/lib/python3.7/site-packages (from nbfancy) (7.5.0)\n",
      "Requirement already satisfied: jupyter in /home/jack/Documents/JamesGrant/nbfancy_install/lib/python3.7/site-packages (from nbfancy) (1.0.0)\n",
      "Requirement already satisfied: prompt-toolkit<2.1.0,>=2.0.0 in /home/jack/Documents/JamesGrant/nbfancy_install/lib/python3.7/site-packages (from ipython>=6->nbfancy) (2.0.9)\n",
      "Requirement already satisfied: pygments in /home/jack/Documents/JamesGrant/nbfancy_install/lib/python3.7/site-packages (from ipython>=6->nbfancy) (2.4.2)\n",
      "Requirement already satisfied: pickleshare in /home/jack/Documents/JamesGrant/nbfancy_install/lib/python3.7/site-packages (from ipython>=6->nbfancy) (0.7.5)\n",
      "Requirement already satisfied: jedi>=0.10 in /home/jack/Documents/JamesGrant/nbfancy_install/lib/python3.7/site-packages (from ipython>=6->nbfancy) (0.13.3)\n",
      "Requirement already satisfied: traitlets>=4.2 in /home/jack/Documents/JamesGrant/nbfancy_install/lib/python3.7/site-packages (from ipython>=6->nbfancy) (4.3.2)\n",
      "Requirement already satisfied: decorator in /home/jack/Documents/JamesGrant/nbfancy_install/lib/python3.7/site-packages (from ipython>=6->nbfancy) (4.4.0)\n",
      "Requirement already satisfied: setuptools>=18.5 in /home/jack/Documents/JamesGrant/nbfancy_install/lib/python3.7/site-packages (from ipython>=6->nbfancy) (40.8.0)\n",
      "Requirement already satisfied: backcall in /home/jack/Documents/JamesGrant/nbfancy_install/lib/python3.7/site-packages (from ipython>=6->nbfancy) (0.1.0)\n",
      "Requirement already satisfied: pexpect; sys_platform != \"win32\" in /home/jack/Documents/JamesGrant/nbfancy_install/lib/python3.7/site-packages (from ipython>=6->nbfancy) (4.7.0)\n",
      "Requirement already satisfied: ipywidgets in /home/jack/Documents/JamesGrant/nbfancy_install/lib/python3.7/site-packages (from jupyter->nbfancy) (7.4.2)\n",
      "Requirement already satisfied: ipykernel in /home/jack/Documents/JamesGrant/nbfancy_install/lib/python3.7/site-packages (from jupyter->nbfancy) (5.1.1)\n",
      "Requirement already satisfied: nbconvert in /home/jack/Documents/JamesGrant/nbfancy_install/lib/python3.7/site-packages (from jupyter->nbfancy) (5.5.0)\n",
      "Requirement already satisfied: notebook in /home/jack/Documents/JamesGrant/nbfancy_install/lib/python3.7/site-packages (from jupyter->nbfancy) (5.7.8)\n",
      "Requirement already satisfied: qtconsole in /home/jack/Documents/JamesGrant/nbfancy_install/lib/python3.7/site-packages (from jupyter->nbfancy) (4.5.1)\n",
      "Requirement already satisfied: jupyter-console in /home/jack/Documents/JamesGrant/nbfancy_install/lib/python3.7/site-packages (from jupyter->nbfancy) (6.0.0)\n",
      "Requirement already satisfied: six>=1.9.0 in /home/jack/Documents/JamesGrant/nbfancy_install/lib/python3.7/site-packages (from prompt-toolkit<2.1.0,>=2.0.0->ipython>=6->nbfancy) (1.12.0)\n",
      "Requirement already satisfied: wcwidth in /home/jack/Documents/JamesGrant/nbfancy_install/lib/python3.7/site-packages (from prompt-toolkit<2.1.0,>=2.0.0->ipython>=6->nbfancy) (0.1.7)\n",
      "Requirement already satisfied: parso>=0.3.0 in /home/jack/Documents/JamesGrant/nbfancy_install/lib/python3.7/site-packages (from jedi>=0.10->ipython>=6->nbfancy) (0.4.0)\n",
      "Requirement already satisfied: ipython-genutils in /home/jack/Documents/JamesGrant/nbfancy_install/lib/python3.7/site-packages (from traitlets>=4.2->ipython>=6->nbfancy) (0.2.0)\n",
      "Requirement already satisfied: ptyprocess>=0.5 in /home/jack/Documents/JamesGrant/nbfancy_install/lib/python3.7/site-packages (from pexpect; sys_platform != \"win32\"->ipython>=6->nbfancy) (0.6.0)\n",
      "Requirement already satisfied: nbformat>=4.2.0 in /home/jack/Documents/JamesGrant/nbfancy_install/lib/python3.7/site-packages (from ipywidgets->jupyter->nbfancy) (4.4.0)\n",
      "Requirement already satisfied: widgetsnbextension~=3.4.0 in /home/jack/Documents/JamesGrant/nbfancy_install/lib/python3.7/site-packages (from ipywidgets->jupyter->nbfancy) (3.4.2)\n",
      "Requirement already satisfied: tornado>=4.2 in /home/jack/Documents/JamesGrant/nbfancy_install/lib/python3.7/site-packages (from ipykernel->jupyter->nbfancy) (6.0.2)\n",
      "Requirement already satisfied: jupyter-client in /home/jack/Documents/JamesGrant/nbfancy_install/lib/python3.7/site-packages (from ipykernel->jupyter->nbfancy) (5.2.4)\n",
      "Requirement already satisfied: jinja2>=2.4 in /home/jack/Documents/JamesGrant/nbfancy_install/lib/python3.7/site-packages (from nbconvert->jupyter->nbfancy) (2.10.1)\n",
      "Requirement already satisfied: pandocfilters>=1.4.1 in /home/jack/Documents/JamesGrant/nbfancy_install/lib/python3.7/site-packages (from nbconvert->jupyter->nbfancy) (1.4.2)\n",
      "Requirement already satisfied: testpath in /home/jack/Documents/JamesGrant/nbfancy_install/lib/python3.7/site-packages (from nbconvert->jupyter->nbfancy) (0.4.2)\n",
      "Requirement already satisfied: bleach in /home/jack/Documents/JamesGrant/nbfancy_install/lib/python3.7/site-packages (from nbconvert->jupyter->nbfancy) (3.1.0)\n",
      "Requirement already satisfied: defusedxml in /home/jack/Documents/JamesGrant/nbfancy_install/lib/python3.7/site-packages (from nbconvert->jupyter->nbfancy) (0.6.0)\n",
      "Requirement already satisfied: mistune>=0.8.1 in /home/jack/Documents/JamesGrant/nbfancy_install/lib/python3.7/site-packages (from nbconvert->jupyter->nbfancy) (0.8.4)\n",
      "Requirement already satisfied: entrypoints>=0.2.2 in /home/jack/Documents/JamesGrant/nbfancy_install/lib/python3.7/site-packages (from nbconvert->jupyter->nbfancy) (0.3)\n",
      "Requirement already satisfied: jupyter-core in /home/jack/Documents/JamesGrant/nbfancy_install/lib/python3.7/site-packages (from nbconvert->jupyter->nbfancy) (4.4.0)\n",
      "Requirement already satisfied: terminado>=0.8.1 in /home/jack/Documents/JamesGrant/nbfancy_install/lib/python3.7/site-packages (from notebook->jupyter->nbfancy) (0.8.2)\n",
      "Requirement already satisfied: pyzmq>=17 in /home/jack/Documents/JamesGrant/nbfancy_install/lib/python3.7/site-packages (from notebook->jupyter->nbfancy) (18.0.1)\n",
      "Requirement already satisfied: prometheus-client in /home/jack/Documents/JamesGrant/nbfancy_install/lib/python3.7/site-packages (from notebook->jupyter->nbfancy) (0.6.0)\n",
      "Requirement already satisfied: Send2Trash in /home/jack/Documents/JamesGrant/nbfancy_install/lib/python3.7/site-packages (from notebook->jupyter->nbfancy) (1.5.0)\n",
      "Requirement already satisfied: jsonschema!=2.5.0,>=2.4 in /home/jack/Documents/JamesGrant/nbfancy_install/lib/python3.7/site-packages (from nbformat>=4.2.0->ipywidgets->jupyter->nbfancy) (3.0.1)\n",
      "Requirement already satisfied: python-dateutil>=2.1 in /home/jack/Documents/JamesGrant/nbfancy_install/lib/python3.7/site-packages (from jupyter-client->ipykernel->jupyter->nbfancy) (2.8.0)\n",
      "Requirement already satisfied: MarkupSafe>=0.23 in /home/jack/Documents/JamesGrant/nbfancy_install/lib/python3.7/site-packages (from jinja2>=2.4->nbconvert->jupyter->nbfancy) (1.1.1)\n",
      "Requirement already satisfied: webencodings in /home/jack/Documents/JamesGrant/nbfancy_install/lib/python3.7/site-packages (from bleach->nbconvert->jupyter->nbfancy) (0.5.1)\n",
      "Requirement already satisfied: attrs>=17.4.0 in /home/jack/Documents/JamesGrant/nbfancy_install/lib/python3.7/site-packages (from jsonschema!=2.5.0,>=2.4->nbformat>=4.2.0->ipywidgets->jupyter->nbfancy) (19.1.0)\n",
      "Requirement already satisfied: pyrsistent>=0.14.0 in /home/jack/Documents/JamesGrant/nbfancy_install/lib/python3.7/site-packages (from jsonschema!=2.5.0,>=2.4->nbformat>=4.2.0->ipywidgets->jupyter->nbfancy) (0.15.2)\n",
      "\u001b[33mYou are using pip version 19.0.3, however version 19.1.1 is available.\n",
      "You should consider upgrading via the 'pip install --upgrade pip' command.\u001b[0m\n"
     ]
    }
   ],
   "source": [
    "!pip install nbfancy"
   ]
  },
  {
   "cell_type": "markdown",
   "metadata": {},
   "source": [
    "will install the package `nbfancy` from PyPI's package repository."
   ]
  },
  {
   "cell_type": "markdown",
   "metadata": {},
   "source": [
    "## Information: Installing\n",
    "For further information on different ways we can use `pip` to install packages see this Python [tutorial](https://packaging.python.org/tutorials/installing-packages)."
   ]
  },
  {
   "cell_type": "markdown",
   "metadata": {},
   "source": [
    "## Writing a `setup.py`\n",
    "The reason we could pass the directory `../code/superheros` to `pip` and have it install the package, was because it contained a file named `setup.py`. This Python file contains all the information `pip` needs to install the modules in `superheros` to the computer currently being used.\n",
    "\n",
    "So to make our modules installable, all we have to do is write our own `setup.py`. After that we can just pass the directory containing `setup.py` (and our module) to pip and it will attempt to install it."
   ]
  },
  {
   "cell_type": "markdown",
   "metadata": {},
   "source": [
    "## Information: Packaging and distributing\n",
    "Clear information about packaging and distributing Python files can be difficult to come by. We have collected the sources of the information we used to make this episode here:\n",
    "\n",
    "#### Python tutorials\n",
    "* Tutorial on [distributing](https://docs.python.org/3.7/distributing), which is fairly brief.\n",
    "* Tutorial on [package structure](https://packaging.python.org/tutorials/packaging-projects), a short example project is explored.\n",
    "\n",
    "#### Python Guide\n",
    "A guide to both packaging and distributing can be found [here](https://packaging.python.org/guides/distributing-packages-using-setuptools), Which goes into more detail than the tutorials. This guide also covers uploading packages to PyPI, the Python Package Index, whic we won't cover here.\n",
    "\n",
    "#### Setuptools\n",
    "Setuptools itself is actually a package and not part of the official core Python, but its use is recommended by both Python and PyPI. Documentation for the project is available on their [website](https://setuptools.readthedocs.io/en/latest/setuptools.html).\n",
    "\n",
    "Setuptools is based on the old distutils module, which was part of core Python. It is largely depricated now and the link is mainly included for interest: [distutils](https://docs.python.org/3.7/distutils)"
   ]
  },
  {
   "cell_type": "markdown",
   "metadata": {},
   "source": [
    "`setup.py` does not need to contain much information. A minimum working example is included in the file `basic_setup.py` in the module. (This file won't install the package, as it has the wrong filename!)\n",
    "\n",
    "The script `setup.py` is not designed to be executed directly, it is called either by `pip` or with additional command line arguments to perform tasks. As a result you cannot execute `setuptools` commands directly into a notebook.\n",
    "\n",
    "To see what is in the file we can use Python to read in the file and print the content to screen:"
   ]
  },
  {
   "cell_type": "code",
   "execution_count": 30,
   "metadata": {},
   "outputs": [
    {
     "name": "stdout",
     "output_type": "stream",
     "text": [
      "from setuptools import setup\n",
      "\n",
      "setup(  name='superheros',\n",
      "        version=1.0,\n",
      "        py_modules=['superhero',\n",
      "                    'superhero2',\n",
      "                    'check_superheros'\n",
      "                    ]\n",
      "        )\n",
      "\n"
     ]
    }
   ],
   "source": [
    "with open('../code/superheros/basic_setup.py') as fh:\n",
    "    print(fh.read())"
   ]
  },
  {
   "cell_type": "markdown",
   "metadata": {},
   "source": [
    "We use the package `setuptools`, as is currently recommended. From the package we import the function `setup` which uses keyword arguments to provide the information about our package. \n",
    "\n",
    "* `name` is the name of the package that will be used by pip. If we wanted to uninstall this package for some reason, we would pass this name to pip (`pip list` and `pip uninstall` commands are uesful here).\n",
    "* `version` is the release version of our package, which is used by pip to update packages, or select specific versions of a package.\n",
    "* `py_modules` is a Python list containing all of the modules we want to include in our package.\n",
    "* Normally we would use the `packages` keyword to specify what to include, but we would need additional file structure for this to work.\n",
    "\n",
    "That is all the necessary information, however there are far more keywords available, which we can see if we look at the file `setup.py` that is actually used to install the package:"
   ]
  },
  {
   "cell_type": "code",
   "execution_count": 3,
   "metadata": {},
   "outputs": [
    {
     "name": "stdout",
     "output_type": "stream",
     "text": [
      "from setuptools import setup\n",
      "\n",
      "with open(\"README.md\", \"r\") as fh:\n",
      "    long_description = fh.read()\n",
      "\n",
      "setup(  name='superheros',\n",
      "        version=1.0,\n",
      "        author='Jack Betteridge',\n",
      "        author_email='jdb55@bath.ac.uk',\n",
      "        description='A package about superheros',\n",
      "        long_description=long_description,\n",
      "        long_description_content_type='text/markdown',\n",
      "        url='https://arc-lessons.github.io/libraries-modules/00_schedule.html',\n",
      "        py_modules=['superhero',\n",
      "                    'superhero2',\n",
      "                    'check_superheros'\n",
      "                    ],\n",
      "        classifiers=[   'Programming Language :: Python :: 3',\n",
      "                        'License :: OSI Approved :: BSD License',\n",
      "                        'Operating System :: POSIX :: Linux'\n",
      "                    ]\n",
      "        )\n",
      "\n"
     ]
    }
   ],
   "source": [
    "with open('../code/superheros/setup.py') as fh:\n",
    "    print(fh.read())"
   ]
  },
  {
   "cell_type": "markdown",
   "metadata": {},
   "source": [
    "Most of the keywords should be self explanatory, but if in doubt take a look at the documentation linked to above for specific information about any of these keywords."
   ]
  },
  {
   "cell_type": "markdown",
   "metadata": {},
   "source": [
    "## Information: Package or module\n",
    "The words package and module (and even library) are often used interchangably when talking about packages and modules. It is only really important in this context. Python defines a module as a **single file** that contains functions, classes and other code, whereas a Python package is a \"module\" containing other modules, which in practise means a **directory** full of Python modules.\n",
    "\n",
    "For this reason if you want to inculde individual **modules** the keyword `py_module` is used. If you go on to write your own **package** you will probably need the `packages` keyword."
   ]
  },
  {
   "cell_type": "markdown",
   "metadata": {},
   "source": [
    "## Information: Using `find_packages()` in bigger projects\n",
    "The setuptools package includes the function `find_packages()` to make creating large packages, with many submodules, more straightforward. This is used in conjunction with the keyword `packages` to find all of the Python files in a given directory and include them in the package being created, without having to list the files individually.\n",
    "\n",
    "There is not an equivalent for modules (keyword `py_modules`) at the top level as this is not a good design for a package. Instead modules should be organised into a structured hierarchy of sub-modules grouped together as appropriate."
   ]
  },
  {
   "cell_type": "markdown",
   "metadata": {},
   "source": [
    "## Exercise: Create your own `setup.py`\n",
    "\n",
    "Remember `morse.py`, the module containing the class for encoding and decoding messages as Morse code? It would be great if other people could install this, as it takes at least two people to have a conversation in Morse code!\n",
    "\n",
    "Create a basic `setup.py` file for `morse.py` containing enough information about the module that it can be installed by `pip`.\n",
    "\n",
    "[Solution]()"
   ]
  },
  {
   "cell_type": "markdown",
   "metadata": {},
   "source": [
    "## Solution+: Create your own `setup.py`\n",
    "\n"
   ]
  },
  {
   "cell_type": "code",
   "execution_count": 32,
   "metadata": {},
   "outputs": [
    {
     "name": "stdout",
     "output_type": "stream",
     "text": [
      "from setuptools import setup\n",
      "\n",
      "setup(  name='morse',\n",
      "        version=1.0,\n",
      "        py_modules=['morse'])\n",
      "\n"
     ]
    }
   ],
   "source": [
    "with open('../code/morse/basic_setup.py') as fh:\n",
    "    print(fh.read())"
   ]
  },
  {
   "cell_type": "markdown",
   "metadata": {},
   "source": [
    "\n",
    ": Solution+"
   ]
  },
  {
   "cell_type": "markdown",
   "metadata": {},
   "source": [
    "## Exercise: Useful information\n",
    "Extend your solution to the above exercise by:\n",
    "* using some of the additional keywords you have seen in this episode\n",
    "* reading the documentation and adding other _relevant_ keywords.\n",
    "\n",
    "[Solution]()"
   ]
  },
  {
   "cell_type": "markdown",
   "metadata": {},
   "source": [
    "## Solution+: Useful information\n"
   ]
  },
  {
   "cell_type": "code",
   "execution_count": 35,
   "metadata": {},
   "outputs": [
    {
     "name": "stdout",
     "output_type": "stream",
     "text": [
      "from setuptools import setup\n",
      "\n",
      "setup(  name='morse',\n",
      "        version=1.0,\n",
      "        author='My Full Name',\n",
      "        author_email='mfn20@bath.ac.uk',\n",
      "        description='Module for Morse code enthusiasts',\n",
      "        long_description='A longer description of how Morese code works',\n",
      "        url='https://arc-lessons.github.io/libraries-modules/07_package-soln.html',\n",
      "        py_modules=['morse']\n",
      "        classifiers=[   'Programming Language :: Python :: 3',\n",
      "                        'License :: OSI Approved :: BSD License',\n",
      "                        'Operating System :: POSIX :: Linux'\n",
      "                    ]\n",
      "        )\n",
      "\n"
     ]
    }
   ],
   "source": [
    "with open('../code/morse/setup.py') as fh:\n",
    "    print(fh.read())"
   ]
  },
  {
   "cell_type": "markdown",
   "metadata": {},
   "source": [
    ": Solution+"
   ]
  },
  {
   "cell_type": "markdown",
   "metadata": {},
   "source": [
    "## Key Points:\n",
    "* A module is a Python file containing functions and classes.\n",
    "* A package is a module that contains other modules.\n",
    "* `pip` is used to install packages, both from PyPI and the local machine.\n",
    "* Correct file structure and `setup.py` are all that are required to install (a distributable) Python package."
   ]
  }
 ],
 "metadata": {
  "kernelspec": {
   "display_name": "Python 3",
   "language": "python",
   "name": "python3"
  },
  "language_info": {
   "codemirror_mode": {
    "name": "ipython",
    "version": 3
   },
   "file_extension": ".py",
   "mimetype": "text/x-python",
   "name": "python",
   "nbconvert_exporter": "python",
   "pygments_lexer": "ipython3",
   "version": "3.7.3"
  }
 },
 "nbformat": 4,
 "nbformat_minor": 2
}
