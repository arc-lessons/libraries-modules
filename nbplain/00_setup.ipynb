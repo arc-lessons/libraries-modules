{
 "cells": [
  {
   "cell_type": "markdown",
   "metadata": {},
   "source": [
    "# Setup"
   ]
  },
  {
   "cell_type": "markdown",
   "metadata": {},
   "source": [
    "This lesson will require a few extra steps to setup some of the modules we require. As usual start by cloning the azure library."
   ]
  },
  {
   "cell_type": "markdown",
   "metadata": {},
   "source": [
    "## Setup:\n",
    "\n",
    "Log on to [notebooks.azure.com](https://notebooks.azure.com) and clone the lesson library ***add link.***"
   ]
  },
  {
   "cell_type": "markdown",
   "metadata": {},
   "source": [
    "Now we must locally install the modules that are included in this lesson, we do this using pip:"
   ]
  },
  {
   "cell_type": "code",
   "execution_count": 1,
   "metadata": {},
   "outputs": [
    {
     "name": "stdout",
     "output_type": "stream",
     "text": [
      "Processing /home/jack/Documents/JamesGrant/arc-bath-forks/libraries-modules\r\n"
     ]
    },
    {
     "name": "stdout",
     "output_type": "stream",
     "text": [
      "Installing collected packages: libraries-modules\r\n",
      "  Found existing installation: libraries-modules 1.0\r\n",
      "    Uninstalling libraries-modules-1.0:\r\n"
     ]
    },
    {
     "name": "stdout",
     "output_type": "stream",
     "text": [
      "      Successfully uninstalled libraries-modules-1.0\r\n"
     ]
    },
    {
     "name": "stdout",
     "output_type": "stream",
     "text": [
      "  Running setup.py install for libraries-modules ... \u001b[?25l-"
     ]
    },
    {
     "name": "stdout",
     "output_type": "stream",
     "text": [
      "\b \bdone\r\n",
      "\u001b[?25hconfig vars:\r\n",
      "{'abiflags': 'm',\r\n",
      " 'base': '/home/jack/Documents/JamesGrant/nbfancy_install',\r\n",
      " 'dist_fullname': 'UNKNOWN-0.0.0',\r\n",
      " 'dist_name': 'UNKNOWN',\r\n",
      " 'dist_version': '0.0.0',\r\n",
      " 'exec_prefix': '/home/jack/Documents/JamesGrant/nbfancy_install',\r\n",
      " 'platbase': '/home/jack/Documents/JamesGrant/nbfancy_install',\r\n",
      " 'prefix': '/home/jack/Documents/JamesGrant/nbfancy_install',\r\n",
      " 'py_version': '3.7.3',\r\n",
      " 'py_version_nodot': '37',\r\n",
      " 'py_version_short': '3.7',\r\n",
      " 'sys_exec_prefix': '/home/jack/Documents/JamesGrant/nbfancy_install',\r\n",
      " 'sys_prefix': '/home/jack/Documents/JamesGrant/nbfancy_install',\r\n",
      " 'userbase': '/home/jack/.local',\r\n",
      " 'usersite': '/home/jack/.local/lib/python3.7/site-packages'}\r\n",
      "Successfully installed libraries-modules-1.0\r\n"
     ]
    },
    {
     "name": "stdout",
     "output_type": "stream",
     "text": [
      "\u001b[33mYou are using pip version 19.0.3, however version 19.1.1 is available.\r\n",
      "You should consider upgrading via the 'pip install --upgrade pip' command.\u001b[0m\r\n"
     ]
    }
   ],
   "source": [
    "!pip install .."
   ]
  },
  {
   "cell_type": "markdown",
   "metadata": {},
   "source": [
    "## Information: pip ...what!?\n",
    "\n",
    "The above command looks a bit cryptic, so let's take a quick look at it. `pip` is the Python package manager, it installs and manages all of the Python specific modules. You can even install full applications that are written in Python using `pip`.\n",
    "\n",
    "The `install` command for `pip` will perform the installation procedure for the package that follows. If the package is well written and has been set up correctly, it will also resolve all its dependencies automatically.\n",
    "\n",
    "Following `install`, rather than a package name, we have `..`. This tells `pip` that we don't want to look in [PyPI](pypi.org)(The Python Package Index), but we want to install modules we have locally. Specifically it requires the path to `setup.py` file, which in our case is located in the parent directory `..`.  The `setup.py` file contains the information `pip` needs to install files for this lesson."
   ]
  },
  {
   "cell_type": "markdown",
   "metadata": {},
   "source": [
    "Once the package has been installed, it may be necessary to restart the kernel for the Jupyter notebook. This can be \n",
    "done by clicking the <i class=\"fa fa-repeat\"></i> button on the toolbar.\n",
    "\n",
    "To check this has worked we can try importing the test module as follows:"
   ]
  },
  {
   "cell_type": "code",
   "execution_count": 2,
   "metadata": {},
   "outputs": [
    {
     "name": "stdout",
     "output_type": "stream",
     "text": [
      "Package for the libraries-modules installed correctly\n"
     ]
    }
   ],
   "source": [
    "import check_libraries_modules"
   ]
  },
  {
   "cell_type": "markdown",
   "metadata": {},
   "source": [
    "If your output looks the same as above, you are ready to continue with the lesson."
   ]
  }
 ],
 "metadata": {
  "kernelspec": {
   "display_name": "Python 3",
   "language": "python",
   "name": "python3"
  },
  "language_info": {
   "codemirror_mode": {
    "name": "ipython",
    "version": 3
   },
   "file_extension": ".py",
   "mimetype": "text/x-python",
   "name": "python",
   "nbconvert_exporter": "python",
   "pygments_lexer": "ipython3",
   "version": "3.7.3"
  }
 },
 "nbformat": 4,
 "nbformat_minor": 2
}
