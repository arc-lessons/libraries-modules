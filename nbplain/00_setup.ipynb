{
 "cells": [
  {
   "cell_type": "markdown",
   "metadata": {},
   "source": [
    "# Setup"
   ]
  },
  {
   "cell_type": "markdown",
   "metadata": {},
   "source": [
    "This lesson will require a few extra steps to setup some of the modules we require. As usual start by cloning the azure library."
   ]
  },
  {
   "cell_type": "markdown",
   "metadata": {},
   "source": [
    "## Setup:\n",
    "\n",
    "Log on to [notebooks.azure.com](https://notebooks.azure.com) and clone the lesson [library](https://notebooks.azure.com/jdb55/projects/libraries-modules)."
   ]
  },
  {
   "cell_type": "markdown",
   "metadata": {},
   "source": [
    "Now we must locally install the modules that are included in this lesson, we do this using pip:"
   ]
  },
  {
   "cell_type": "code",
   "execution_count": 1,
   "metadata": {},
   "outputs": [
    {
     "name": "stdout",
     "output_type": "stream",
     "text": [
      "Processing /home/jack/Documents/James_Grant/libraries-modules/code/superheros\n",
      "Installing collected packages: superheros\n",
      "  Found existing installation: superheros 1.0\n",
      "    Uninstalling superheros-1.0:\n",
      "      Successfully uninstalled superheros-1.0\n",
      "  Running setup.py install for superheros ... \u001b[?25ldone\n",
      "\u001b[?25hSuccessfully installed superheros-1.0\n",
      "\u001b[33mYou are using pip version 10.0.1, however version 19.1.1 is available.\n",
      "You should consider upgrading via the 'pip install --upgrade pip' command.\u001b[0m\n"
     ]
    }
   ],
   "source": [
    "!pip install ../code/superheros"
   ]
  },
  {
   "cell_type": "markdown",
   "metadata": {},
   "source": [
    "## Information: pip ...what!?\n",
    "\n",
    "The above command looks a bit cryptic, so let's take a quick look at it. `pip` is the Python package manager, it installs and manages all of the Python specific modules. You can even install full applications that are written in Python using `pip`.\n",
    "\n",
    "The `install` command for `pip` will perform the installation procedure for the package that follows. If the package is well written and has been set up correctly, it will also resolve all its dependencies automatically.\n",
    "\n",
    "Following `install`, rather than a package name, we have `../code/superheros`. This tells `pip` that we don't want to look in [PyPI](https://pypi.org) (The Python Package Index), but we want to install modules we have locally. Specifically it requires the path to a `setup.py` file, which in our case is located in the parent directory `../code/superheros`.  The `setup.py` file contains the information `pip` needs to install files for this lesson."
   ]
  },
  {
   "cell_type": "markdown",
   "metadata": {},
   "source": [
    "Once the package has been installed, it may be necessary to restart the kernel for the Jupyter notebook. This can be \n",
    "done by clicking the <i class=\"fa fa-repeat\"></i> button on the toolbar.\n",
    "\n",
    "To check this has worked we can try importing the test module as follows:"
   ]
  },
  {
   "cell_type": "code",
   "execution_count": 2,
   "metadata": {},
   "outputs": [
    {
     "name": "stdout",
     "output_type": "stream",
     "text": [
      "Package for the libraries-modules lesson installed correctly\n"
     ]
    }
   ],
   "source": [
    "import check_superheros"
   ]
  },
  {
   "cell_type": "markdown",
   "metadata": {},
   "source": [
    "If your output looks the same as above, you are ready to continue with the lesson."
   ]
  }
 ],
 "metadata": {
  "kernelspec": {
   "display_name": "Python 3",
   "language": "python",
   "name": "python3"
  },
  "language_info": {
   "codemirror_mode": {
    "name": "ipython",
    "version": 3
   },
   "file_extension": ".py",
   "mimetype": "text/x-python",
   "name": "python",
   "nbconvert_exporter": "python",
   "pygments_lexer": "ipython3",
   "version": "3.7.3"
  }
 },
 "nbformat": 4,
 "nbformat_minor": 2
}
